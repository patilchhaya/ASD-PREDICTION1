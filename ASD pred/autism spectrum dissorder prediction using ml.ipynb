{
 "cells": [
  {
   "cell_type": "code",
   "execution_count": 1,
   "id": "ae5b05e0",
   "metadata": {},
   "outputs": [
    {
     "ename": "ValueError",
     "evalue": "Shape of passed values is (50, 30), indices imply (50, 31)",
     "output_type": "error",
     "traceback": [
      "\u001b[1;31m---------------------------------------------------------------------------\u001b[0m",
      "\u001b[1;31mValueError\u001b[0m                                Traceback (most recent call last)",
      "Input \u001b[1;32mIn [1]\u001b[0m, in \u001b[0;36m<cell line: 19>\u001b[1;34m()\u001b[0m\n\u001b[0;32m      9\u001b[0m columns \u001b[38;5;241m=\u001b[39m [\u001b[38;5;124m'\u001b[39m\u001b[38;5;124mGender\u001b[39m\u001b[38;5;124m'\u001b[39m, \u001b[38;5;124m'\u001b[39m\u001b[38;5;124mAge\u001b[39m\u001b[38;5;124m'\u001b[39m, \u001b[38;5;124m'\u001b[39m\u001b[38;5;124mGenetic Predisposition\u001b[39m\u001b[38;5;124m'\u001b[39m, \u001b[38;5;124m'\u001b[39m\u001b[38;5;124mFamily History of ASD\u001b[39m\u001b[38;5;124m'\u001b[39m, \u001b[38;5;124m'\u001b[39m\u001b[38;5;124mMaternal/Paternal Age\u001b[39m\u001b[38;5;124m'\u001b[39m,\n\u001b[0;32m     10\u001b[0m            \u001b[38;5;124m'\u001b[39m\u001b[38;5;124mBirth Complications\u001b[39m\u001b[38;5;124m'\u001b[39m, \u001b[38;5;124m'\u001b[39m\u001b[38;5;124mDevelopmental Milestones Delayed\u001b[39m\u001b[38;5;124m'\u001b[39m, \u001b[38;5;124m'\u001b[39m\u001b[38;5;124mPresence of Speech Delay\u001b[39m\u001b[38;5;124m'\u001b[39m,\n\u001b[0;32m     11\u001b[0m            \u001b[38;5;124m'\u001b[39m\u001b[38;5;124mRepetitive Behaviors\u001b[39m\u001b[38;5;124m'\u001b[39m, \u001b[38;5;124m'\u001b[39m\u001b[38;5;124mSocial Interaction Difficulties\u001b[39m\u001b[38;5;124m'\u001b[39m, \u001b[38;5;124m'\u001b[39m\u001b[38;5;124mSensory Sensitivities\u001b[39m\u001b[38;5;124m'\u001b[39m, \u001b[38;5;124m'\u001b[39m\u001b[38;5;124mRestricted Interests\u001b[39m\u001b[38;5;124m'\u001b[39m,\n\u001b[1;32m   (...)\u001b[0m\n\u001b[0;32m     15\u001b[0m            \u001b[38;5;124m'\u001b[39m\u001b[38;5;124mEpilepsy/Seizure Disorders\u001b[39m\u001b[38;5;124m'\u001b[39m, \u001b[38;5;124m'\u001b[39m\u001b[38;5;124mImmunization History\u001b[39m\u001b[38;5;124m'\u001b[39m, \u001b[38;5;124m'\u001b[39m\u001b[38;5;124mSensory Processing Issues\u001b[39m\u001b[38;5;124m'\u001b[39m,\n\u001b[0;32m     16\u001b[0m            \u001b[38;5;124m'\u001b[39m\u001b[38;5;124mParental Educational Level\u001b[39m\u001b[38;5;124m'\u001b[39m, \u001b[38;5;124m'\u001b[39m\u001b[38;5;124mIncome Level\u001b[39m\u001b[38;5;124m'\u001b[39m, \u001b[38;5;124m'\u001b[39m\u001b[38;5;124mAccess to Early Intervention Services\u001b[39m\u001b[38;5;124m'\u001b[39m, \u001b[38;5;124m'\u001b[39m\u001b[38;5;124mTarget\u001b[39m\u001b[38;5;124m'\u001b[39m]\n\u001b[0;32m     18\u001b[0m \u001b[38;5;66;03m# Create a DataFrame\u001b[39;00m\n\u001b[1;32m---> 19\u001b[0m df \u001b[38;5;241m=\u001b[39m \u001b[43mpd\u001b[49m\u001b[38;5;241;43m.\u001b[39;49m\u001b[43mDataFrame\u001b[49m\u001b[43m(\u001b[49m\u001b[43mdata\u001b[49m\u001b[43m,\u001b[49m\u001b[43m \u001b[49m\u001b[43mcolumns\u001b[49m\u001b[38;5;241;43m=\u001b[39;49m\u001b[43mcolumns\u001b[49m\u001b[43m)\u001b[49m\n\u001b[0;32m     21\u001b[0m \u001b[38;5;66;03m# Assign a random value for the target column\u001b[39;00m\n\u001b[0;32m     22\u001b[0m df[\u001b[38;5;124m'\u001b[39m\u001b[38;5;124mTarget\u001b[39m\u001b[38;5;124m'\u001b[39m] \u001b[38;5;241m=\u001b[39m np\u001b[38;5;241m.\u001b[39mrandom\u001b[38;5;241m.\u001b[39mrandint(\u001b[38;5;241m0\u001b[39m, \u001b[38;5;241m2\u001b[39m, size\u001b[38;5;241m=\u001b[39m\u001b[38;5;241m50\u001b[39m)\n",
      "File \u001b[1;32m~\\anaconda3\\lib\\site-packages\\pandas\\core\\frame.py:694\u001b[0m, in \u001b[0;36mDataFrame.__init__\u001b[1;34m(self, data, index, columns, dtype, copy)\u001b[0m\n\u001b[0;32m    684\u001b[0m         mgr \u001b[38;5;241m=\u001b[39m dict_to_mgr(\n\u001b[0;32m    685\u001b[0m             \u001b[38;5;66;03m# error: Item \"ndarray\" of \"Union[ndarray, Series, Index]\" has no\u001b[39;00m\n\u001b[0;32m    686\u001b[0m             \u001b[38;5;66;03m# attribute \"name\"\u001b[39;00m\n\u001b[1;32m   (...)\u001b[0m\n\u001b[0;32m    691\u001b[0m             typ\u001b[38;5;241m=\u001b[39mmanager,\n\u001b[0;32m    692\u001b[0m         )\n\u001b[0;32m    693\u001b[0m     \u001b[38;5;28;01melse\u001b[39;00m:\n\u001b[1;32m--> 694\u001b[0m         mgr \u001b[38;5;241m=\u001b[39m \u001b[43mndarray_to_mgr\u001b[49m\u001b[43m(\u001b[49m\n\u001b[0;32m    695\u001b[0m \u001b[43m            \u001b[49m\u001b[43mdata\u001b[49m\u001b[43m,\u001b[49m\n\u001b[0;32m    696\u001b[0m \u001b[43m            \u001b[49m\u001b[43mindex\u001b[49m\u001b[43m,\u001b[49m\n\u001b[0;32m    697\u001b[0m \u001b[43m            \u001b[49m\u001b[43mcolumns\u001b[49m\u001b[43m,\u001b[49m\n\u001b[0;32m    698\u001b[0m \u001b[43m            \u001b[49m\u001b[43mdtype\u001b[49m\u001b[38;5;241;43m=\u001b[39;49m\u001b[43mdtype\u001b[49m\u001b[43m,\u001b[49m\n\u001b[0;32m    699\u001b[0m \u001b[43m            \u001b[49m\u001b[43mcopy\u001b[49m\u001b[38;5;241;43m=\u001b[39;49m\u001b[43mcopy\u001b[49m\u001b[43m,\u001b[49m\n\u001b[0;32m    700\u001b[0m \u001b[43m            \u001b[49m\u001b[43mtyp\u001b[49m\u001b[38;5;241;43m=\u001b[39;49m\u001b[43mmanager\u001b[49m\u001b[43m,\u001b[49m\n\u001b[0;32m    701\u001b[0m \u001b[43m        \u001b[49m\u001b[43m)\u001b[49m\n\u001b[0;32m    703\u001b[0m \u001b[38;5;66;03m# For data is list-like, or Iterable (will consume into list)\u001b[39;00m\n\u001b[0;32m    704\u001b[0m \u001b[38;5;28;01melif\u001b[39;00m is_list_like(data):\n",
      "File \u001b[1;32m~\\anaconda3\\lib\\site-packages\\pandas\\core\\internals\\construction.py:351\u001b[0m, in \u001b[0;36mndarray_to_mgr\u001b[1;34m(values, index, columns, dtype, copy, typ)\u001b[0m\n\u001b[0;32m    346\u001b[0m \u001b[38;5;66;03m# _prep_ndarray ensures that values.ndim == 2 at this point\u001b[39;00m\n\u001b[0;32m    347\u001b[0m index, columns \u001b[38;5;241m=\u001b[39m _get_axes(\n\u001b[0;32m    348\u001b[0m     values\u001b[38;5;241m.\u001b[39mshape[\u001b[38;5;241m0\u001b[39m], values\u001b[38;5;241m.\u001b[39mshape[\u001b[38;5;241m1\u001b[39m], index\u001b[38;5;241m=\u001b[39mindex, columns\u001b[38;5;241m=\u001b[39mcolumns\n\u001b[0;32m    349\u001b[0m )\n\u001b[1;32m--> 351\u001b[0m \u001b[43m_check_values_indices_shape_match\u001b[49m\u001b[43m(\u001b[49m\u001b[43mvalues\u001b[49m\u001b[43m,\u001b[49m\u001b[43m \u001b[49m\u001b[43mindex\u001b[49m\u001b[43m,\u001b[49m\u001b[43m \u001b[49m\u001b[43mcolumns\u001b[49m\u001b[43m)\u001b[49m\n\u001b[0;32m    353\u001b[0m \u001b[38;5;28;01mif\u001b[39;00m typ \u001b[38;5;241m==\u001b[39m \u001b[38;5;124m\"\u001b[39m\u001b[38;5;124marray\u001b[39m\u001b[38;5;124m\"\u001b[39m:\n\u001b[0;32m    355\u001b[0m     \u001b[38;5;28;01mif\u001b[39;00m \u001b[38;5;28missubclass\u001b[39m(values\u001b[38;5;241m.\u001b[39mdtype\u001b[38;5;241m.\u001b[39mtype, \u001b[38;5;28mstr\u001b[39m):\n",
      "File \u001b[1;32m~\\anaconda3\\lib\\site-packages\\pandas\\core\\internals\\construction.py:422\u001b[0m, in \u001b[0;36m_check_values_indices_shape_match\u001b[1;34m(values, index, columns)\u001b[0m\n\u001b[0;32m    420\u001b[0m passed \u001b[38;5;241m=\u001b[39m values\u001b[38;5;241m.\u001b[39mshape\n\u001b[0;32m    421\u001b[0m implied \u001b[38;5;241m=\u001b[39m (\u001b[38;5;28mlen\u001b[39m(index), \u001b[38;5;28mlen\u001b[39m(columns))\n\u001b[1;32m--> 422\u001b[0m \u001b[38;5;28;01mraise\u001b[39;00m \u001b[38;5;167;01mValueError\u001b[39;00m(\u001b[38;5;124mf\u001b[39m\u001b[38;5;124m\"\u001b[39m\u001b[38;5;124mShape of passed values is \u001b[39m\u001b[38;5;132;01m{\u001b[39;00mpassed\u001b[38;5;132;01m}\u001b[39;00m\u001b[38;5;124m, indices imply \u001b[39m\u001b[38;5;132;01m{\u001b[39;00mimplied\u001b[38;5;132;01m}\u001b[39;00m\u001b[38;5;124m\"\u001b[39m)\n",
      "\u001b[1;31mValueError\u001b[0m: Shape of passed values is (50, 30), indices imply (50, 31)"
     ]
    }
   ],
   "source": [
    "import pandas as pd\n",
    "import numpy as np\n",
    "\n",
    "# Create a random dataset\n",
    "np.random.seed(42)\n",
    "data = np.random.randint(0, 2, size=(50, 30))\n",
    "\n",
    "# Create column names\n",
    "columns = ['Gender', 'Age', 'Genetic Predisposition', 'Family History of ASD', 'Maternal/Paternal Age',\n",
    "           'Birth Complications', 'Developmental Milestones Delayed', 'Presence of Speech Delay',\n",
    "           'Repetitive Behaviors', 'Social Interaction Difficulties', 'Sensory Sensitivities', 'Restricted Interests',\n",
    "           'Eye Contact Difficulties', 'Language Regression', 'Intellectual Disability', 'Cognitive Abilities',\n",
    "           'Adaptive Functioning', 'Executive Functioning', 'Attention Difficulties', 'Hyperactivity',\n",
    "           'Anxiety Levels', 'Depression Levels', 'Sleep Patterns', 'Gastrointestinal Issues',\n",
    "           'Epilepsy/Seizure Disorders', 'Immunization History', 'Sensory Processing Issues',\n",
    "           'Parental Educational Level', 'Income Level', 'Access to Early Intervention Services', 'Target']\n",
    "\n",
    "# Create a DataFrame\n",
    "df = pd.DataFrame(data, columns=columns)\n",
    "\n",
    "# Assign a random value for the target column\n",
    "df['Target'] = np.random.randint(0, 2, size=50)\n",
    "\n",
    "# Display the dataset\n",
    "print(df)\n"
   ]
  },
  {
   "cell_type": "code",
   "execution_count": null,
   "id": "00e8e5a3",
   "metadata": {},
   "outputs": [],
   "source": [
    "Age (numeric): The age of the individual.\n",
    "Gender (categorical): The gender of the individual.\n",
    "Ethnicity (categorical): The ethnicity of the individual.\n",
    "Family history (boolean): Whether there is a family history of ASD.\n",
    "Developmental delay (boolean): Whether there was a delay in the individual's developmental milestones.\n",
    "Language delay (boolean): Whether there was a delay in the development of language skills.\n",
    "Cognitive abilities (numeric): The individual's cognitive abilities or IQ score.\n",
    "Anxiety symptoms (boolean): Whether the individual exhibits symptoms of anxiety.\n",
    "Repetitive_Behaviors_Score(float)\n",
    "Social_Interactions_Score(float)\n",
    "Communication_Score(float)\n",
    "Education level (categorical): The individual's highest level of education completed.\n",
    "ASD_Diagnosis"
   ]
  },
  {
   "cell_type": "code",
   "execution_count": null,
   "id": "550015a2",
   "metadata": {},
   "outputs": [],
   "source": [
    "Age (numeric): The age of the individual.\n",
    "Gender (categorical): The gender of the individual.\n",
    "Ethnicity (categorical): The ethnicity of the individual.\n",
    "Family history (boolean): Whether there is a family history of ASD.\n",
    "Birth complications (boolean): Whether there were any complications during birth.\n",
    "Prenatal factors (boolean): Whether there were any prenatal factors that may contribute to ASD.\n",
    "Genetic factors (boolean): Whether there are any known genetic factors associated with ASD.\n",
    "Developmental delay (boolean): Whether there was a delay in the individual's developmental milestones.\n",
    "Language delay (boolean): Whether there was a delay in the development of language skills.\n",
    "Cognitive abilities (numeric): The individual's cognitive abilities or IQ score.\n",
    "Repetitive behaviors (boolean): Whether the individual engages in repetitive behaviors.\n",
    "Social interactions (numeric): The individual's ability to engage in social interactions.\n",
    "Sensory sensitivities (boolean): Whether the individual has sensory sensitivities.\n",
    "Motor skills (numeric): The individual's motor skills or coordination abilities.\n",
    "Sleep disturbances (boolean): Whether the individual experiences sleep disturbances.\n",
    "Gastrointestinal issues (boolean): Whether the individual has gastrointestinal issues.\n",
    "Anxiety symptoms (boolean): Whether the individual exhibits symptoms of anxiety.\n",
    "Depression symptoms (boolean): Whether the individual exhibits symptoms of depression.\n",
    "ADHD symptoms (boolean): Whether the individual exhibits symptoms of ADHD.\n",
    "Executive functioning (numeric): The individual's executive functioning abilities.\n",
    "Theory of Mind (boolean): Whether the individual has difficulty understanding others' perspectives.\n",
    "Communication skills (numeric): The individual's communication skills.\n",
    "Sensory-seeking behaviors (boolean): Whether the individual engages in sensory-seeking behaviors.\n",
    "Co-occurring conditions (numeric): The number of co-occurring conditions present in the individual.\n",
    "Medication (boolean): Whether the individual is taking medication for ASD symptoms.\n",
    "Therapy (boolean): Whether the individual receives therapy or intervention for ASD.\n",
    "Education level (categorical): The individual's highest level of education completed.\n",
    "Employment status (categorical): The individual's current employment status.\n",
    "Quality of life (numeric): The individual's self-reported quality of life.\n",
    "ASD diagnosis (boolean, target column): Whether the individual has been diagnosed with ASD.\n"
   ]
  },
  {
   "cell_type": "code",
   "execution_count": 1,
   "id": "77e4ba2f",
   "metadata": {},
   "outputs": [
    {
     "ename": "SyntaxError",
     "evalue": "invalid syntax (2435219243.py, line 17)",
     "output_type": "error",
     "traceback": [
      "\u001b[1;36m  Input \u001b[1;32mIn [1]\u001b[1;36m\u001b[0m\n\u001b[1;33m    data['Cognitive abilities'] = np.random.randint(50,100 size=50)\u001b[0m\n\u001b[1;37m                                                           ^\u001b[0m\n\u001b[1;31mSyntaxError\u001b[0m\u001b[1;31m:\u001b[0m invalid syntax\n"
     ]
    }
   ],
   "source": [
    "import pandas as pd\n",
    "import numpy as np\n",
    "\n",
    "# Create a dictionary to store the data\n",
    "data = {}\n",
    "\n",
    "# Generate random values for each feature\n",
    "data['Age'] = np.random.randint(18, 65, size=50)\n",
    "data['Gender'] = np.random.choice(['Male', 'Female'], size=50)\n",
    "data['Ethnicity'] = np.random.choice(['Caucasian', 'African American', 'Asian', 'Hispanic', 'Other'], size=50)\n",
    "data['Family_History'] = np.random.choice([True, False], size=50)\n",
    "data['Birth_Complications'] = np.random.choice([True, False], size=50)\n",
    "data['Prenatal_Factors'] = np.random.choice([True, False], size=50)\n",
    "data['Genetic_Factors'] = np.random.choice([True, False], size=50)\n",
    "data['Developmental_Delay'] = np.random.choice([True, False], size=50)\n",
    "data['Language_Delay'] = np.random.choice([True, False], size=50)\n",
    "data['Cognitive abilities'] = np.random.randint(50,100 size=50)\n",
    "data['Repetitive behaviors'] = np.random.choice([True, False], size=50)\n",
    "data['Social interactions'] = np.random.randint(50,100 size=50)\n",
    "data['Sensory sensitivities'] = np.random.choice([True, False], size=50)"
   ]
  },
  {
   "cell_type": "code",
   "execution_count": 2,
   "id": "803807ff",
   "metadata": {},
   "outputs": [
    {
     "ename": "NameError",
     "evalue": "name 'data' is not defined",
     "output_type": "error",
     "traceback": [
      "\u001b[1;31m---------------------------------------------------------------------------\u001b[0m",
      "\u001b[1;31mNameError\u001b[0m                                 Traceback (most recent call last)",
      "Input \u001b[1;32mIn [2]\u001b[0m, in \u001b[0;36m<cell line: 1>\u001b[1;34m()\u001b[0m\n\u001b[1;32m----> 1\u001b[0m \u001b[43mdata\u001b[49m\n",
      "\u001b[1;31mNameError\u001b[0m: name 'data' is not defined"
     ]
    }
   ],
   "source": [
    "data"
   ]
  },
  {
   "cell_type": "code",
   "execution_count": null,
   "id": "fd647597",
   "metadata": {},
   "outputs": [],
   "source": [
    "| Patient ID | Age | Gender | Ethnicity | Family History | Birth Weight | Pregnancy Complications | Premature Birth | Maternal Age | Maternal Education | Paternal Education | Medical Conditions | Speech Delay | Motor Skills | Social Milestones | Eye Contact | Verbal Communication Skills | Nonverbal Communication Skills | Social Reciprocity | Repetitive Behaviors | Sensory Sensitivities | Hyperactivity or Hypoactivity | Cognitive Abilities | Adaptive Functioning | Gastrointestinal Symptoms | Sleep Patterns | Attention Difficulties | Anxiety | Depression | Intervention History | Target (ASD) |\n",
    "|------------|-----|--------|-----------|----------------|--------------|------------------------|-----------------|---------------|--------------------|--------------------|--------------------|--------------|--------------|--------------------|-------------|-----------------------------|-------------------------------|--------------------|----------------------|----------------------|-----------------------------|---------------------|-----------------------|-----------------------------|----------------|----------------------|---------|------------|---------------------|---------------|\n",
    "| 1          | 4   | Male   | Caucasian | Yes            | 3.5 kg       | No                     | No              | 30            | High School        | College            | No                 | Yes          | Normal       | Achieved           | Limited     | Good                        | Limited                       | Moderate           | Moderate             | Yes                  | Hyperactive                  | Average             | Moderate              | No                          | Regular        | Yes                    | No      | No         | ABA Therapy         | ASD           |\n",
    "| 2          | 6   | Female | Asian     | No             | 2.8 kg       | Yes                    | Yes             | 32            | College            | University         | Asthma             | No           | Delayed      | Achieved           | Good        | Limited                     | Good                          | Good               | Mild                 | Yes                  | Hypoactive                   | Above Average       | High                   | No                          | Irregular      | No                     | Yes     | No         | Speech Therapy      | Non-ASD       |\n",
    "| 3          | 3   | Male   | African   | Yes            | 2.9 kg       | No                     | No              | 28            | High School        | High School        | Allergies          | Yes          | Delayed      | Delayed            | Limited     | Limited                     | Limited                       | Limited            | Moderate             | No                   | Hyperactive                  | Below Average       | Moderate              | Yes                         | Regular        | Yes                    | No      | No         | Occupational Therapy| ASD           |\n",
    "| 4          | 5   | Female | Hispanic  | Yes            | 3.2 kg       | Yes                    | No              | 31            | College            | College            | Epilepsy           | Yes          | Normal       | Achieved           | Good        | Good                        | Good                          | Good               | Mild                 | Yes                  | Hypoactive                   | Average             | High                   | Yes                         | Regular        | Yes                    | Yes     | No         | Behavioral Therapy  | ASD           |\n",
    "| 5          | 2   | Male   | Caucasian | No             | 3.8 kg       | No                     | Yes             | 29            | University         | University         | None               | Yes          | Delayed      | Delayed            | Limited     | Limited                     | Limited                       | Limited            | Moderate             | Yes                  | Hyperactive                  | Above Average       | Moderate              | No                          | Irregular      | No                     | No      | Yes        | Early Intervention\n"
   ]
  },
  {
   "cell_type": "code",
   "execution_count": null,
   "id": "d8221258",
   "metadata": {},
   "outputs": [],
   "source": []
  },
  {
   "cell_type": "code",
   "execution_count": null,
   "id": "c49c24b3",
   "metadata": {},
   "outputs": [],
   "source": [
    "problem statement :\n",
    "    The objective of this machine learning project is to develop a model that can predict the likelihood of Autism Spectrum\n",
    "    Disorder (ASD) in individuals based on relevant features and indicators. Early identification and prediction of ASD \n",
    "    can aid in early intervention and support for individuals and their families."
   ]
  },
  {
   "cell_type": "code",
   "execution_count": null,
   "id": "af2c9a35",
   "metadata": {},
   "outputs": [],
   "source": [
    "Dataset:\n",
    "Gather a dataset that includes information about individuals, both with and without ASD, along with their corresponding\n",
    "features. The dataset should encompass various factors such as demographic information, medical history, behavioral \n",
    "assessments, developmental milestones, and diagnostic outcomes. Collaborate with healthcare institutions, research centers,\n",
    "or autism organizations to obtain appropriate datasets, ensuring privacy and adhering to ethical considerations."
   ]
  },
  {
   "cell_type": "code",
   "execution_count": null,
   "id": "55e9c63a",
   "metadata": {},
   "outputs": [],
   "source": [
    "Approach:\n",
    "\n",
    "Data Preprocessing:\n",
    "Clean the dataset by handling missing values, outliers, and inconsistencies. Preprocess the data to ensure it is in a\n",
    "suitable format for analysis. This may involve data encoding, scaling, or normalization.\n",
    "\n",
    "Feature Selection:\n",
    "Utilize feature selection techniques to identify the most relevant features for predicting ASD. This may involve statistical\n",
    "analysis, correlation analysis, or domain knowledge to identify important indicators.\n",
    "\n",
    "Model Selection:\n",
    "Choose appropriate machine learning algorithms for classification tasks. Consider algorithms such as logistic regression, \n",
    "support vector machines, random forests, gradient boosting, or deep learning models. Select algorithms that can handle the\n",
    "complexity and nonlinearity of the ASD prediction task.\n",
    "\n",
    "Model Training and Evaluation:\n",
    "Split the dataset into training and validation sets. Train the selected machine learning model using the training set and\n",
    "fine-tune hyperparameters as necessary. Evaluate the model's performance using appropriate evaluation metrics such as \n",
    "accuracy, precision, recall, F1-score, and area under the receiver operating characteristic curve (AUC-ROC).\n",
    "\n",
    "Validation and Testing:\n",
    "Evaluate the trained model on a separate testing dataset to assess its generalization ability and real-world performance.\n",
    "Measure key metrics to determine the model's accuracy and reliability in predicting ASD.\n",
    "\n",
    "Model Interpretability:\n",
    "Analyze the model's interpretability to gain insights into the features and indicators driving the ASD predictions. This \n",
    "step can help understand the important factors contributing to the prediction and provide explanations for the model's\n",
    "decisions.\n",
    "\n",
    "Deployment:\n",
    "Develop a user-friendly interface or integrate the model into existing systems to make it accessible to healthcare\n",
    "professionals, clinicians, or individuals seeking early identification. Ensure compliance with privacy regulations and \n",
    "ethical guidelines.\n",
    "\n",
    "Continuous Improvement:\n",
    "Continuously update the model as new data becomes available, incorporating advancements in research and understanding of \n",
    "ASD. Gather feedback from clinicians, domain experts, and stakeholders to enhance the model's accuracy, interpretability,\n",
    "and usability over time."
   ]
  },
  {
   "cell_type": "code",
   "execution_count": null,
   "id": "b7f3319a",
   "metadata": {},
   "outputs": [],
   "source": [
    "Age: The age of the individual.\n",
    "Gender: The gender of the individual.\n",
    "Ethnicity: The ethnic background of the individual.\n",
    "Family History: Presence of ASD or related developmental disorders in the family.\n",
    "Birth Weight: The birth weight of the individual.\n",
    "Pregnancy Complications: Presence of any complications during pregnancy.\n",
    "Premature Birth: Indicator of whether the individual was born prematurely.\n",
    "Maternal Age: The age of the mother at the time of the individual's birth.\n",
    "Maternal Education: The level of education of the mother.\n",
    "Paternal Education: The level of education of the father.\n",
    "Medical Conditions: Presence of other medical conditions or comorbidities.\n",
    "Speech Delay: Indicator of delayed speech development.\n",
    "Motor Skills: Indicator of motor skill development.\n",
    "Social Milestones: Indicator of social milestones such as joint attention and response to name.\n",
    "Eye Contact: Indicator of eye contact during social interactions.\n",
    "Verbal Communication Skills: Assessment of language development and communication abilities.\n",
    "Nonverbal Communication Skills: Assessment of nonverbal communication abilities.\n",
    "Social Reciprocity: Indicator of social reciprocity skills.\n",
    "Repetitive Behaviors: Indicator of repetitive or restricted behaviors.\n",
    "Sensory Sensitivities: Indicator of sensory sensitivities or sensory processing difficulties.\n",
    "Hyperactivity or Hypoactivity: Indicator of hyper- or hypo-reactivity to sensory stimuli.\n",
    "Cognitive Abilities: Measures of cognitive abilities, such as IQ scores or cognitive functioning assessments.\n",
    "Adaptive Functioning: Assessments of adaptive skills in daily living, communication, and socialization.\n",
    "Gastrointestinal Symptoms: Indicator of gastrointestinal issues or related symptoms.\n",
    "Sleep Patterns: Indicator of sleep patterns and disturbances.\n",
    "Attention Difficulties: Indicator of attention deficit or difficulties.\n",
    "Anxiety: Indicator of anxiety symptoms or related conditions.\n",
    "Depression: Indicator of depressive symptoms or related conditions.\n",
    "Intervention History: Information about previous interventions or therapies received.\n",
    "Target (Label): Binary label indicating the presence (ASD) or absence (Non-ASD) of Autism Spectrum Disorder.\n",
    "Re"
   ]
  },
  {
   "cell_type": "code",
   "execution_count": null,
   "id": "dc3133d7",
   "metadata": {},
   "outputs": [],
   "source": [
    "In Autism Spectrum Disorder (ASD) prediction using machine learning, the goal is to predict the likelihood or probability of\n",
    "an individual having ASD based on the available features and indicators. The prediction outcome is typically binary, \n",
    "indicating whether the individual is likely to have ASD or not.\n",
    "\n",
    "The prediction outcome serves as an assessment or estimation of the individual's risk or probability of having ASD.\n",
    "The machine learning model analyzes the input features and makes a prediction based on patterns and relationships learned\n",
    "from the training data.\n",
    "\n",
    "The prediction can aid in early identification and intervention for individuals at risk of ASD. It can help healthcare\n",
    "professionals, clinicians, and caregivers make informed decisions and provide appropriate support and services to\n",
    "individuals and their families.\n",
    "\n",
    "It's important to note that the prediction does not replace the formal diagnosis by qualified healthcare professionals.\n",
    "Instead, the prediction serves as an initial screening tool to identify individuals who may require further assessment or\n",
    "evaluation for ASD. The model's predictions can be used as an additional piece of information alongside clinical judgment\n",
    "to support the diagnostic process.\n",
    "\n",
    "The ultimate aim of ASD prediction using machine learning is to assist in early identification, intervention planning, and \n",
    "resource allocation, with the goal of improving outcomes for individuals with ASD by facilitating timely and targeted \n",
    "support.\n",
    "\n",
    "\n",
    "\n",
    "\n",
    "The objective of this machine learning project is to develop a model that can assist in the early detection and diagnosis \n",
    "of Autism Spectrum Disorder (ASD). Autism is a neurodevelopmental disorder characterized by social communication challenges\n",
    ", repetitive behaviors, and restricted interests. Early diagnosis and intervention can significantly improve outcomes for \n",
    "individuals with ASD and their families.\n",
    "\n",
    "ASD diagnosis traditionally relies on subjective evaluations by clinicians and specialists, which can be time-consuming\n",
    "and may result in delayed diagnosis. By leveraging machine learning techniques, we aim to develop a model that can analyze \n",
    "relevant data and provide a reliable and efficient tool for early ASD detection and diagnosis."
   ]
  },
  {
   "cell_type": "code",
   "execution_count": null,
   "id": "1b495b82",
   "metadata": {},
   "outputs": [],
   "source": [
    "Roles and responsibilty :\n",
    "    \n",
    "    1.Collaborating with stakeholders in understanding and identifying the business requirements and needs.\n",
    "    2.Gathering relevant data related to individuals diagnosed with ASD or at risk of developing ASD.and Work with very large \n",
    "      data sets \n",
    "    3.Cleaning, formatting, and preparing the collected data for analysis. This involves handling missing values,\n",
    "    normalizing data, removing outliers, and ensuring data quality.\n",
    "    4.Perform Data cleansing transformation, feature engineering, apply statistical analysis, data visualization\n",
    "    5.Design and develop solutions using various algorithms and define path to implementation with IT teams"
   ]
  },
  {
   "cell_type": "code",
   "execution_count": null,
   "id": "8866b5c8",
   "metadata": {},
   "outputs": [],
   "source": [
    "roles and responsibility:\n",
    "    1.Understood and analyzed the customer requirements.\n",
    "    2.Collect and preprocess relevant credit card data.\n",
    "    3.Clean the data by handling missing values, outliers, and inconsistencies.\n",
    "    4.Select relevant features that are likely to have a predictive relationship with the target variable.\n",
    "    5.Implement and optimize machine learning algorithms for credit card default and apply statistical analysis"
   ]
  },
  {
   "cell_type": "code",
   "execution_count": null,
   "id": "6757e02d",
   "metadata": {},
   "outputs": [],
   "source": []
  },
  {
   "cell_type": "code",
   "execution_count": null,
   "id": "f828546f",
   "metadata": {},
   "outputs": [],
   "source": []
  },
  {
   "cell_type": "code",
   "execution_count": null,
   "id": "4ec81e1a",
   "metadata": {},
   "outputs": [],
   "source": []
  },
  {
   "cell_type": "code",
   "execution_count": null,
   "id": "f0e565b7",
   "metadata": {},
   "outputs": [],
   "source": []
  }
 ],
 "metadata": {
  "kernelspec": {
   "display_name": "Python 3 (ipykernel)",
   "language": "python",
   "name": "python3"
  },
  "language_info": {
   "codemirror_mode": {
    "name": "ipython",
    "version": 3
   },
   "file_extension": ".py",
   "mimetype": "text/x-python",
   "name": "python",
   "nbconvert_exporter": "python",
   "pygments_lexer": "ipython3",
   "version": "3.9.12"
  }
 },
 "nbformat": 4,
 "nbformat_minor": 5
}
